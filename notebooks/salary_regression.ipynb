{
 "cells": [
  {
   "cell_type": "code",
   "execution_count": 1,
   "id": "29c2959a",
   "metadata": {},
   "outputs": [],
   "source": [
    "import pandas as pd\n",
    "from sklearn.model_selection import train_test_split\n",
    "from sklearn.preprocessing import StandardScaler, OneHotEncoder,LabelEncoder\n",
    "import pickle"
   ]
  },
  {
   "cell_type": "code",
   "execution_count": 3,
   "id": "72f39298",
   "metadata": {},
   "outputs": [
    {
     "data": {
      "text/html": [
       "<div>\n",
       "<style scoped>\n",
       "    .dataframe tbody tr th:only-of-type {\n",
       "        vertical-align: middle;\n",
       "    }\n",
       "\n",
       "    .dataframe tbody tr th {\n",
       "        vertical-align: top;\n",
       "    }\n",
       "\n",
       "    .dataframe thead th {\n",
       "        text-align: right;\n",
       "    }\n",
       "</style>\n",
       "<table border=\"1\" class=\"dataframe\">\n",
       "  <thead>\n",
       "    <tr style=\"text-align: right;\">\n",
       "      <th></th>\n",
       "      <th>RowNumber</th>\n",
       "      <th>CustomerId</th>\n",
       "      <th>Surname</th>\n",
       "      <th>CreditScore</th>\n",
       "      <th>Geography</th>\n",
       "      <th>Gender</th>\n",
       "      <th>Age</th>\n",
       "      <th>Tenure</th>\n",
       "      <th>Balance</th>\n",
       "      <th>NumOfProducts</th>\n",
       "      <th>HasCrCard</th>\n",
       "      <th>IsActiveMember</th>\n",
       "      <th>EstimatedSalary</th>\n",
       "      <th>Exited</th>\n",
       "    </tr>\n",
       "  </thead>\n",
       "  <tbody>\n",
       "    <tr>\n",
       "      <th>0</th>\n",
       "      <td>1</td>\n",
       "      <td>15634602</td>\n",
       "      <td>Hargrave</td>\n",
       "      <td>619</td>\n",
       "      <td>France</td>\n",
       "      <td>Female</td>\n",
       "      <td>42</td>\n",
       "      <td>2</td>\n",
       "      <td>0.00</td>\n",
       "      <td>1</td>\n",
       "      <td>1</td>\n",
       "      <td>1</td>\n",
       "      <td>101348.88</td>\n",
       "      <td>1</td>\n",
       "    </tr>\n",
       "    <tr>\n",
       "      <th>1</th>\n",
       "      <td>2</td>\n",
       "      <td>15647311</td>\n",
       "      <td>Hill</td>\n",
       "      <td>608</td>\n",
       "      <td>Spain</td>\n",
       "      <td>Female</td>\n",
       "      <td>41</td>\n",
       "      <td>1</td>\n",
       "      <td>83807.86</td>\n",
       "      <td>1</td>\n",
       "      <td>0</td>\n",
       "      <td>1</td>\n",
       "      <td>112542.58</td>\n",
       "      <td>0</td>\n",
       "    </tr>\n",
       "    <tr>\n",
       "      <th>2</th>\n",
       "      <td>3</td>\n",
       "      <td>15619304</td>\n",
       "      <td>Onio</td>\n",
       "      <td>502</td>\n",
       "      <td>France</td>\n",
       "      <td>Female</td>\n",
       "      <td>42</td>\n",
       "      <td>8</td>\n",
       "      <td>159660.80</td>\n",
       "      <td>3</td>\n",
       "      <td>1</td>\n",
       "      <td>0</td>\n",
       "      <td>113931.57</td>\n",
       "      <td>1</td>\n",
       "    </tr>\n",
       "    <tr>\n",
       "      <th>3</th>\n",
       "      <td>4</td>\n",
       "      <td>15701354</td>\n",
       "      <td>Boni</td>\n",
       "      <td>699</td>\n",
       "      <td>France</td>\n",
       "      <td>Female</td>\n",
       "      <td>39</td>\n",
       "      <td>1</td>\n",
       "      <td>0.00</td>\n",
       "      <td>2</td>\n",
       "      <td>0</td>\n",
       "      <td>0</td>\n",
       "      <td>93826.63</td>\n",
       "      <td>0</td>\n",
       "    </tr>\n",
       "    <tr>\n",
       "      <th>4</th>\n",
       "      <td>5</td>\n",
       "      <td>15737888</td>\n",
       "      <td>Mitchell</td>\n",
       "      <td>850</td>\n",
       "      <td>Spain</td>\n",
       "      <td>Female</td>\n",
       "      <td>43</td>\n",
       "      <td>2</td>\n",
       "      <td>125510.82</td>\n",
       "      <td>1</td>\n",
       "      <td>1</td>\n",
       "      <td>1</td>\n",
       "      <td>79084.10</td>\n",
       "      <td>0</td>\n",
       "    </tr>\n",
       "  </tbody>\n",
       "</table>\n",
       "</div>"
      ],
      "text/plain": [
       "   RowNumber  CustomerId   Surname  ...  IsActiveMember EstimatedSalary Exited\n",
       "0          1    15634602  Hargrave  ...               1       101348.88      1\n",
       "1          2    15647311      Hill  ...               1       112542.58      0\n",
       "2          3    15619304      Onio  ...               0       113931.57      1\n",
       "3          4    15701354      Boni  ...               0        93826.63      0\n",
       "4          5    15737888  Mitchell  ...               1        79084.10      0\n",
       "\n",
       "[5 rows x 14 columns]"
      ]
     },
     "execution_count": 3,
     "metadata": {},
     "output_type": "execute_result"
    }
   ],
   "source": [
    "df=pd.read_csv(\"/Users/rahulmanchanda/Desktop/deep-learning-ann/Churn_Modelling.csv\")\n",
    "df.head()"
   ]
  },
  {
   "cell_type": "code",
   "execution_count": 4,
   "id": "4173d76b",
   "metadata": {},
   "outputs": [],
   "source": [
    "df.drop(['RowNumber', 'CustomerId', 'Surname'], axis=1, inplace=True)"
   ]
  },
  {
   "cell_type": "code",
   "execution_count": 5,
   "id": "4bd9d6e8",
   "metadata": {},
   "outputs": [],
   "source": [
    "label_encoder_gender=LabelEncoder()\n",
    "df[\"Gender\"]=label_encoder_gender.fit_transform(df[\"Gender\"])"
   ]
  },
  {
   "cell_type": "code",
   "execution_count": 6,
   "id": "3cafbcb2",
   "metadata": {},
   "outputs": [
    {
     "data": {
      "text/html": [
       "<div>\n",
       "<style scoped>\n",
       "    .dataframe tbody tr th:only-of-type {\n",
       "        vertical-align: middle;\n",
       "    }\n",
       "\n",
       "    .dataframe tbody tr th {\n",
       "        vertical-align: top;\n",
       "    }\n",
       "\n",
       "    .dataframe thead th {\n",
       "        text-align: right;\n",
       "    }\n",
       "</style>\n",
       "<table border=\"1\" class=\"dataframe\">\n",
       "  <thead>\n",
       "    <tr style=\"text-align: right;\">\n",
       "      <th></th>\n",
       "      <th>Geography_France</th>\n",
       "      <th>Geography_Germany</th>\n",
       "      <th>Geography_Spain</th>\n",
       "    </tr>\n",
       "  </thead>\n",
       "  <tbody>\n",
       "    <tr>\n",
       "      <th>0</th>\n",
       "      <td>1.0</td>\n",
       "      <td>0.0</td>\n",
       "      <td>0.0</td>\n",
       "    </tr>\n",
       "    <tr>\n",
       "      <th>1</th>\n",
       "      <td>0.0</td>\n",
       "      <td>0.0</td>\n",
       "      <td>1.0</td>\n",
       "    </tr>\n",
       "    <tr>\n",
       "      <th>2</th>\n",
       "      <td>1.0</td>\n",
       "      <td>0.0</td>\n",
       "      <td>0.0</td>\n",
       "    </tr>\n",
       "    <tr>\n",
       "      <th>3</th>\n",
       "      <td>1.0</td>\n",
       "      <td>0.0</td>\n",
       "      <td>0.0</td>\n",
       "    </tr>\n",
       "    <tr>\n",
       "      <th>4</th>\n",
       "      <td>0.0</td>\n",
       "      <td>0.0</td>\n",
       "      <td>1.0</td>\n",
       "    </tr>\n",
       "    <tr>\n",
       "      <th>...</th>\n",
       "      <td>...</td>\n",
       "      <td>...</td>\n",
       "      <td>...</td>\n",
       "    </tr>\n",
       "    <tr>\n",
       "      <th>9995</th>\n",
       "      <td>1.0</td>\n",
       "      <td>0.0</td>\n",
       "      <td>0.0</td>\n",
       "    </tr>\n",
       "    <tr>\n",
       "      <th>9996</th>\n",
       "      <td>1.0</td>\n",
       "      <td>0.0</td>\n",
       "      <td>0.0</td>\n",
       "    </tr>\n",
       "    <tr>\n",
       "      <th>9997</th>\n",
       "      <td>1.0</td>\n",
       "      <td>0.0</td>\n",
       "      <td>0.0</td>\n",
       "    </tr>\n",
       "    <tr>\n",
       "      <th>9998</th>\n",
       "      <td>0.0</td>\n",
       "      <td>1.0</td>\n",
       "      <td>0.0</td>\n",
       "    </tr>\n",
       "    <tr>\n",
       "      <th>9999</th>\n",
       "      <td>1.0</td>\n",
       "      <td>0.0</td>\n",
       "      <td>0.0</td>\n",
       "    </tr>\n",
       "  </tbody>\n",
       "</table>\n",
       "<p>10000 rows × 3 columns</p>\n",
       "</div>"
      ],
      "text/plain": [
       "      Geography_France  Geography_Germany  Geography_Spain\n",
       "0                  1.0                0.0              0.0\n",
       "1                  0.0                0.0              1.0\n",
       "2                  1.0                0.0              0.0\n",
       "3                  1.0                0.0              0.0\n",
       "4                  0.0                0.0              1.0\n",
       "...                ...                ...              ...\n",
       "9995               1.0                0.0              0.0\n",
       "9996               1.0                0.0              0.0\n",
       "9997               1.0                0.0              0.0\n",
       "9998               0.0                1.0              0.0\n",
       "9999               1.0                0.0              0.0\n",
       "\n",
       "[10000 rows x 3 columns]"
      ]
     },
     "execution_count": 6,
     "metadata": {},
     "output_type": "execute_result"
    }
   ],
   "source": [
    "onehot_encoder_geography=OneHotEncoder()\n",
    "geoencoder=onehot_encoder_geography.fit_transform(df[[\"Geography\"]])\n",
    "geo_encoded_df=pd.DataFrame(geoencoder.toarray(), columns=onehot_encoder_geography.get_feature_names_out([\"Geography\"]))\n",
    "geo_encoded_df"
   ]
  },
  {
   "cell_type": "code",
   "execution_count": 7,
   "id": "057ac34e",
   "metadata": {},
   "outputs": [
    {
     "data": {
      "text/html": [
       "<div>\n",
       "<style scoped>\n",
       "    .dataframe tbody tr th:only-of-type {\n",
       "        vertical-align: middle;\n",
       "    }\n",
       "\n",
       "    .dataframe tbody tr th {\n",
       "        vertical-align: top;\n",
       "    }\n",
       "\n",
       "    .dataframe thead th {\n",
       "        text-align: right;\n",
       "    }\n",
       "</style>\n",
       "<table border=\"1\" class=\"dataframe\">\n",
       "  <thead>\n",
       "    <tr style=\"text-align: right;\">\n",
       "      <th></th>\n",
       "      <th>CreditScore</th>\n",
       "      <th>Gender</th>\n",
       "      <th>Age</th>\n",
       "      <th>Tenure</th>\n",
       "      <th>Balance</th>\n",
       "      <th>NumOfProducts</th>\n",
       "      <th>HasCrCard</th>\n",
       "      <th>IsActiveMember</th>\n",
       "      <th>EstimatedSalary</th>\n",
       "      <th>Exited</th>\n",
       "      <th>Geography_France</th>\n",
       "      <th>Geography_Germany</th>\n",
       "      <th>Geography_Spain</th>\n",
       "    </tr>\n",
       "  </thead>\n",
       "  <tbody>\n",
       "    <tr>\n",
       "      <th>0</th>\n",
       "      <td>619</td>\n",
       "      <td>0</td>\n",
       "      <td>42</td>\n",
       "      <td>2</td>\n",
       "      <td>0.00</td>\n",
       "      <td>1</td>\n",
       "      <td>1</td>\n",
       "      <td>1</td>\n",
       "      <td>101348.88</td>\n",
       "      <td>1</td>\n",
       "      <td>1.0</td>\n",
       "      <td>0.0</td>\n",
       "      <td>0.0</td>\n",
       "    </tr>\n",
       "    <tr>\n",
       "      <th>1</th>\n",
       "      <td>608</td>\n",
       "      <td>0</td>\n",
       "      <td>41</td>\n",
       "      <td>1</td>\n",
       "      <td>83807.86</td>\n",
       "      <td>1</td>\n",
       "      <td>0</td>\n",
       "      <td>1</td>\n",
       "      <td>112542.58</td>\n",
       "      <td>0</td>\n",
       "      <td>0.0</td>\n",
       "      <td>0.0</td>\n",
       "      <td>1.0</td>\n",
       "    </tr>\n",
       "    <tr>\n",
       "      <th>2</th>\n",
       "      <td>502</td>\n",
       "      <td>0</td>\n",
       "      <td>42</td>\n",
       "      <td>8</td>\n",
       "      <td>159660.80</td>\n",
       "      <td>3</td>\n",
       "      <td>1</td>\n",
       "      <td>0</td>\n",
       "      <td>113931.57</td>\n",
       "      <td>1</td>\n",
       "      <td>1.0</td>\n",
       "      <td>0.0</td>\n",
       "      <td>0.0</td>\n",
       "    </tr>\n",
       "    <tr>\n",
       "      <th>3</th>\n",
       "      <td>699</td>\n",
       "      <td>0</td>\n",
       "      <td>39</td>\n",
       "      <td>1</td>\n",
       "      <td>0.00</td>\n",
       "      <td>2</td>\n",
       "      <td>0</td>\n",
       "      <td>0</td>\n",
       "      <td>93826.63</td>\n",
       "      <td>0</td>\n",
       "      <td>1.0</td>\n",
       "      <td>0.0</td>\n",
       "      <td>0.0</td>\n",
       "    </tr>\n",
       "    <tr>\n",
       "      <th>4</th>\n",
       "      <td>850</td>\n",
       "      <td>0</td>\n",
       "      <td>43</td>\n",
       "      <td>2</td>\n",
       "      <td>125510.82</td>\n",
       "      <td>1</td>\n",
       "      <td>1</td>\n",
       "      <td>1</td>\n",
       "      <td>79084.10</td>\n",
       "      <td>0</td>\n",
       "      <td>0.0</td>\n",
       "      <td>0.0</td>\n",
       "      <td>1.0</td>\n",
       "    </tr>\n",
       "  </tbody>\n",
       "</table>\n",
       "</div>"
      ],
      "text/plain": [
       "   CreditScore  Gender  ...  Geography_Germany  Geography_Spain\n",
       "0          619       0  ...                0.0              0.0\n",
       "1          608       0  ...                0.0              1.0\n",
       "2          502       0  ...                0.0              0.0\n",
       "3          699       0  ...                0.0              0.0\n",
       "4          850       0  ...                0.0              1.0\n",
       "\n",
       "[5 rows x 13 columns]"
      ]
     },
     "execution_count": 7,
     "metadata": {},
     "output_type": "execute_result"
    }
   ],
   "source": [
    "data=pd.concat([df.drop(\"Geography\",axis=1), geo_encoded_df], axis=1)\n",
    "data.head()"
   ]
  },
  {
   "cell_type": "code",
   "execution_count": 9,
   "id": "316b9a95",
   "metadata": {},
   "outputs": [],
   "source": [
    "X=data.drop(\"EstimatedSalary\", axis=1)\n",
    "y=data[\"EstimatedSalary\"]"
   ]
  },
  {
   "cell_type": "code",
   "execution_count": 11,
   "id": "0803871c",
   "metadata": {},
   "outputs": [
    {
     "data": {
      "text/plain": [
       "0       101348.88\n",
       "1       112542.58\n",
       "2       113931.57\n",
       "3        93826.63\n",
       "4        79084.10\n",
       "          ...    \n",
       "9995     96270.64\n",
       "9996    101699.77\n",
       "9997     42085.58\n",
       "9998     92888.52\n",
       "9999     38190.78\n",
       "Name: EstimatedSalary, Length: 10000, dtype: float64"
      ]
     },
     "execution_count": 11,
     "metadata": {},
     "output_type": "execute_result"
    }
   ],
   "source": [
    "y"
   ]
  },
  {
   "cell_type": "code",
   "execution_count": 12,
   "id": "6936008a",
   "metadata": {},
   "outputs": [],
   "source": [
    "X_train, X_test, y_train, y_test = train_test_split(X, y, test_size=0.2, random_state=42)\n",
    "scaler = StandardScaler()\n",
    "X_train = scaler.fit_transform(X_train)\n",
    "X_test = scaler.transform(X_test)"
   ]
  },
  {
   "cell_type": "code",
   "execution_count": 13,
   "id": "fffa9773",
   "metadata": {},
   "outputs": [],
   "source": [
    "with open(\"label_encoder_gender.pkl\", \"wb\") as f:\n",
    "    pickle.dump(label_encoder_gender,f)\n",
    "with open(\"onehot_encoder_geography.pkl\", \"wb\") as f:\n",
    "    pickle.dump(onehot_encoder_geography,f) \n",
    "with open(\"scaler.pkl\", \"wb\") as f:\n",
    "    pickle.dump(scaler,f)"
   ]
  },
  {
   "cell_type": "code",
   "execution_count": 14,
   "id": "c2a02a21",
   "metadata": {},
   "outputs": [],
   "source": [
    "import tensorflow as tf\n",
    "from tensorflow import keras\n",
    "from tensorflow.keras.models import Sequential\n",
    "from tensorflow.keras.layers import Dense\n"
   ]
  },
  {
   "cell_type": "code",
   "execution_count": 15,
   "id": "e5d93cc0",
   "metadata": {},
   "outputs": [],
   "source": [
    "model=Sequential(\n",
    "    [\n",
    "        Dense(64, activation='relu', input_shape=(X_train.shape[1],)),\n",
    "        Dense(32, activation='relu'),\n",
    "        Dense(1)  # No activation function for regression output\n",
    "    ]\n",
    ")\n",
    "model.compile(optimizer='adam', loss='mean_squared_error', metrics=['mae'])"
   ]
  },
  {
   "cell_type": "code",
   "execution_count": 16,
   "id": "574073c4",
   "metadata": {},
   "outputs": [
    {
     "name": "stdout",
     "output_type": "stream",
     "text": [
      "Model: \"sequential\"\n",
      "_________________________________________________________________\n",
      " Layer (type)                Output Shape              Param #   \n",
      "=================================================================\n",
      " dense (Dense)               (None, 64)                832       \n",
      "                                                                 \n",
      " dense_1 (Dense)             (None, 32)                2080      \n",
      "                                                                 \n",
      " dense_2 (Dense)             (None, 1)                 33        \n",
      "                                                                 \n",
      "=================================================================\n",
      "Total params: 2945 (11.50 KB)\n",
      "Trainable params: 2945 (11.50 KB)\n",
      "Non-trainable params: 0 (0.00 Byte)\n",
      "_________________________________________________________________\n"
     ]
    }
   ],
   "source": [
    "model.summary()"
   ]
  },
  {
   "cell_type": "code",
   "execution_count": 18,
   "id": "8a7e8915",
   "metadata": {},
   "outputs": [],
   "source": [
    "from tensorflow.keras.callbacks import TensorBoard\n",
    "import datetime\n",
    "log_dir = \"regressionlogs/fit/\" + datetime.datetime.now().strftime(\"%Y%m%d-%H%M%S\")\n",
    "tensorboard_callback = TensorBoard(log_dir=log_dir, histogram_freq=1)"
   ]
  },
  {
   "cell_type": "code",
   "execution_count": 19,
   "id": "4ea9561b",
   "metadata": {},
   "outputs": [],
   "source": [
    "early_stopping_callback = tf.keras.callbacks.EarlyStopping(monitor='val_loss', patience=5,restore_best_weights=True)"
   ]
  },
  {
   "cell_type": "code",
   "execution_count": 20,
   "id": "28a27d0e",
   "metadata": {},
   "outputs": [
    {
     "name": "stdout",
     "output_type": "stream",
     "text": [
      "Epoch 1/100\n",
      "250/250 [==============================] - 0s 693us/step - loss: 13384171520.0000 - mae: 100380.0234 - val_loss: 13009940480.0000 - val_mae: 98533.0156\n",
      "Epoch 2/100\n",
      "250/250 [==============================] - 0s 483us/step - loss: 13248710656.0000 - mae: 99704.0547 - val_loss: 12740194304.0000 - val_mae: 97169.8438\n",
      "Epoch 3/100\n",
      "250/250 [==============================] - 0s 391us/step - loss: 12771900416.0000 - mae: 97340.7578 - val_loss: 12051402752.0000 - val_mae: 93691.5703\n",
      "Epoch 4/100\n",
      "250/250 [==============================] - 0s 400us/step - loss: 11824896000.0000 - mae: 92660.4922 - val_loss: 10887399424.0000 - val_mae: 87813.5547\n",
      "Epoch 5/100\n",
      "250/250 [==============================] - 0s 392us/step - loss: 10431127552.0000 - mae: 85692.8125 - val_loss: 9350726656.0000 - val_mae: 80055.3672\n",
      "Epoch 6/100\n",
      "250/250 [==============================] - 0s 392us/step - loss: 8759996416.0000 - mae: 77357.1562 - val_loss: 7670763520.0000 - val_mae: 71656.6406\n",
      "Epoch 7/100\n",
      "250/250 [==============================] - 0s 385us/step - loss: 7070108160.0000 - mae: 68856.4141 - val_loss: 6120530944.0000 - val_mae: 63957.1172\n",
      "Epoch 8/100\n",
      "250/250 [==============================] - 0s 390us/step - loss: 5632207872.0000 - mae: 61437.6953 - val_loss: 4932824576.0000 - val_mae: 57932.3008\n",
      "Epoch 9/100\n",
      "250/250 [==============================] - 0s 391us/step - loss: 4607215104.0000 - mae: 56245.1602 - val_loss: 4177395456.0000 - val_mae: 54040.5625\n",
      "Epoch 10/100\n",
      "250/250 [==============================] - 0s 397us/step - loss: 3993234688.0000 - mae: 53073.4023 - val_loss: 3773080832.0000 - val_mae: 52003.4492\n",
      "Epoch 11/100\n",
      "250/250 [==============================] - 0s 377us/step - loss: 3684029696.0000 - mae: 51538.9258 - val_loss: 3598358528.0000 - val_mae: 51187.2383\n",
      "Epoch 12/100\n",
      "250/250 [==============================] - 0s 419us/step - loss: 3544625408.0000 - mae: 50816.8711 - val_loss: 3525026304.0000 - val_mae: 50850.5000\n",
      "Epoch 13/100\n",
      "250/250 [==============================] - 0s 397us/step - loss: 3481575168.0000 - mae: 50511.6641 - val_loss: 3490518528.0000 - val_mae: 50679.4258\n",
      "Epoch 14/100\n",
      "250/250 [==============================] - 0s 401us/step - loss: 3448179200.0000 - mae: 50327.6367 - val_loss: 3469996032.0000 - val_mae: 50579.7266\n",
      "Epoch 15/100\n",
      "250/250 [==============================] - 0s 395us/step - loss: 3426039296.0000 - mae: 50210.5898 - val_loss: 3452947200.0000 - val_mae: 50493.7070\n",
      "Epoch 16/100\n",
      "250/250 [==============================] - 0s 395us/step - loss: 3409966848.0000 - mae: 50135.8164 - val_loss: 3439988224.0000 - val_mae: 50436.9414\n",
      "Epoch 17/100\n",
      "250/250 [==============================] - 0s 382us/step - loss: 3396746496.0000 - mae: 50068.0469 - val_loss: 3428940032.0000 - val_mae: 50388.1406\n",
      "Epoch 18/100\n",
      "250/250 [==============================] - 0s 399us/step - loss: 3385534976.0000 - mae: 50006.6250 - val_loss: 3419853312.0000 - val_mae: 50347.1055\n",
      "Epoch 19/100\n",
      "250/250 [==============================] - 0s 389us/step - loss: 3375984640.0000 - mae: 49959.6953 - val_loss: 3410285056.0000 - val_mae: 50302.0625\n",
      "Epoch 20/100\n",
      "250/250 [==============================] - 0s 384us/step - loss: 3367523328.0000 - mae: 49912.2227 - val_loss: 3401516288.0000 - val_mae: 50257.2148\n",
      "Epoch 21/100\n",
      "250/250 [==============================] - 0s 389us/step - loss: 3360737280.0000 - mae: 49869.5977 - val_loss: 3397331968.0000 - val_mae: 50248.4531\n",
      "Epoch 22/100\n",
      "250/250 [==============================] - 0s 372us/step - loss: 3354209280.0000 - mae: 49842.5117 - val_loss: 3389548544.0000 - val_mae: 50214.2773\n",
      "Epoch 23/100\n",
      "250/250 [==============================] - 0s 383us/step - loss: 3348846080.0000 - mae: 49810.2539 - val_loss: 3384549888.0000 - val_mae: 50190.5938\n",
      "Epoch 24/100\n",
      "250/250 [==============================] - 0s 385us/step - loss: 3343936512.0000 - mae: 49784.6289 - val_loss: 3381392384.0000 - val_mae: 50178.9570\n",
      "Epoch 25/100\n",
      "250/250 [==============================] - 0s 388us/step - loss: 3339527680.0000 - mae: 49760.2031 - val_loss: 3375554048.0000 - val_mae: 50152.5430\n",
      "Epoch 26/100\n",
      "250/250 [==============================] - 0s 388us/step - loss: 3335796992.0000 - mae: 49740.0430 - val_loss: 3372257280.0000 - val_mae: 50137.2617\n",
      "Epoch 27/100\n",
      "250/250 [==============================] - 0s 386us/step - loss: 3332358400.0000 - mae: 49724.3008 - val_loss: 3369424128.0000 - val_mae: 50128.6328\n",
      "Epoch 28/100\n",
      "250/250 [==============================] - 0s 389us/step - loss: 3329091584.0000 - mae: 49703.5586 - val_loss: 3366547968.0000 - val_mae: 50114.8008\n",
      "Epoch 29/100\n",
      "250/250 [==============================] - 0s 391us/step - loss: 3326652160.0000 - mae: 49687.9688 - val_loss: 3363171328.0000 - val_mae: 50099.4688\n",
      "Epoch 30/100\n",
      "250/250 [==============================] - 0s 378us/step - loss: 3323783424.0000 - mae: 49670.4375 - val_loss: 3361526528.0000 - val_mae: 50091.0664\n",
      "Epoch 31/100\n",
      "250/250 [==============================] - 0s 381us/step - loss: 3321696000.0000 - mae: 49658.3281 - val_loss: 3360456960.0000 - val_mae: 50092.8164\n",
      "Epoch 32/100\n",
      "250/250 [==============================] - 0s 382us/step - loss: 3319419648.0000 - mae: 49645.2656 - val_loss: 3358994944.0000 - val_mae: 50089.6602\n",
      "Epoch 33/100\n",
      "250/250 [==============================] - 0s 380us/step - loss: 3317404672.0000 - mae: 49630.5156 - val_loss: 3357812992.0000 - val_mae: 50085.5000\n",
      "Epoch 34/100\n",
      "250/250 [==============================] - 0s 385us/step - loss: 3315625472.0000 - mae: 49619.1133 - val_loss: 3357142784.0000 - val_mae: 50084.6758\n",
      "Epoch 35/100\n",
      "250/250 [==============================] - 0s 473us/step - loss: 3314297088.0000 - mae: 49609.1953 - val_loss: 3355977728.0000 - val_mae: 50076.8984\n",
      "Epoch 36/100\n",
      "250/250 [==============================] - 0s 378us/step - loss: 3312493312.0000 - mae: 49600.3711 - val_loss: 3355453184.0000 - val_mae: 50081.1133\n",
      "Epoch 37/100\n",
      "250/250 [==============================] - 0s 383us/step - loss: 3311270912.0000 - mae: 49590.6602 - val_loss: 3355192064.0000 - val_mae: 50083.0391\n",
      "Epoch 38/100\n",
      "250/250 [==============================] - 0s 412us/step - loss: 3310092288.0000 - mae: 49583.1445 - val_loss: 3354462208.0000 - val_mae: 50078.7031\n",
      "Epoch 39/100\n",
      "250/250 [==============================] - 0s 384us/step - loss: 3309187328.0000 - mae: 49580.8008 - val_loss: 3353677312.0000 - val_mae: 50073.6992\n",
      "Epoch 40/100\n",
      "250/250 [==============================] - 0s 383us/step - loss: 3307562240.0000 - mae: 49567.6719 - val_loss: 3353454592.0000 - val_mae: 50076.6523\n",
      "Epoch 41/100\n",
      "250/250 [==============================] - 0s 380us/step - loss: 3306752256.0000 - mae: 49563.3711 - val_loss: 3351330304.0000 - val_mae: 50063.1211\n",
      "Epoch 42/100\n",
      "250/250 [==============================] - 0s 378us/step - loss: 3305650176.0000 - mae: 49557.3711 - val_loss: 3351063552.0000 - val_mae: 50062.6758\n",
      "Epoch 43/100\n",
      "250/250 [==============================] - 0s 384us/step - loss: 3304812544.0000 - mae: 49548.4961 - val_loss: 3350398208.0000 - val_mae: 50060.1172\n",
      "Epoch 44/100\n",
      "250/250 [==============================] - 0s 386us/step - loss: 3303814144.0000 - mae: 49540.1367 - val_loss: 3350506752.0000 - val_mae: 50062.9375\n",
      "Epoch 45/100\n",
      "250/250 [==============================] - 0s 391us/step - loss: 3303056640.0000 - mae: 49536.4766 - val_loss: 3350567424.0000 - val_mae: 50064.4414\n",
      "Epoch 46/100\n",
      "250/250 [==============================] - 0s 383us/step - loss: 3302445568.0000 - mae: 49529.4062 - val_loss: 3350963712.0000 - val_mae: 50068.0352\n",
      "Epoch 47/100\n",
      "250/250 [==============================] - 0s 439us/step - loss: 3301483264.0000 - mae: 49524.4375 - val_loss: 3349532928.0000 - val_mae: 50059.6016\n",
      "Epoch 48/100\n",
      "250/250 [==============================] - 0s 383us/step - loss: 3300506880.0000 - mae: 49519.8672 - val_loss: 3349175296.0000 - val_mae: 50060.9297\n",
      "Epoch 49/100\n",
      "250/250 [==============================] - 0s 373us/step - loss: 3299783424.0000 - mae: 49510.1211 - val_loss: 3349970944.0000 - val_mae: 50064.7422\n",
      "Epoch 50/100\n",
      "250/250 [==============================] - 0s 374us/step - loss: 3299305472.0000 - mae: 49506.3125 - val_loss: 3351468544.0000 - val_mae: 50075.6719\n",
      "Epoch 51/100\n",
      "250/250 [==============================] - 0s 371us/step - loss: 3298534912.0000 - mae: 49500.3594 - val_loss: 3349721088.0000 - val_mae: 50061.4922\n",
      "Epoch 52/100\n",
      "250/250 [==============================] - 0s 373us/step - loss: 3297661184.0000 - mae: 49496.3047 - val_loss: 3349699328.0000 - val_mae: 50060.3125\n",
      "Epoch 53/100\n",
      "250/250 [==============================] - 0s 376us/step - loss: 3297445632.0000 - mae: 49494.0938 - val_loss: 3349977600.0000 - val_mae: 50063.7969\n"
     ]
    }
   ],
   "source": [
    "history = model.fit(\n",
    "    X_train, y_train,\n",
    "    validation_data=(X_test, y_test),\n",
    "    epochs=100,\n",
    "    batch_size=32,\n",
    "    callbacks=[tensorboard_callback, early_stopping_callback]\n",
    ")"
   ]
  },
  {
   "cell_type": "code",
   "execution_count": 22,
   "id": "64bdfa56",
   "metadata": {},
   "outputs": [
    {
     "name": "stdout",
     "output_type": "stream",
     "text": [
      "The tensorboard extension is already loaded. To reload it, use:\n",
      "  %reload_ext tensorboard\n"
     ]
    }
   ],
   "source": [
    "%load_ext tensorboard\n"
   ]
  },
  {
   "cell_type": "code",
   "execution_count": 27,
   "id": "f86b7335",
   "metadata": {},
   "outputs": [
    {
     "data": {
      "text/plain": [
       "Reusing TensorBoard on port 6008 (pid 32150), started 0:00:55 ago. (Use '!kill 32150' to kill it.)"
      ]
     },
     "metadata": {},
     "output_type": "display_data"
    },
    {
     "data": {
      "text/html": [
       "\n",
       "      <iframe id=\"tensorboard-frame-39b0903ad9733928\" width=\"100%\" height=\"800\" frameborder=\"0\">\n",
       "      </iframe>\n",
       "      <script>\n",
       "        (function() {\n",
       "          const frame = document.getElementById(\"tensorboard-frame-39b0903ad9733928\");\n",
       "          const url = new URL(\"http://localhost\");\n",
       "          const port = 6008;\n",
       "          if (port) {\n",
       "            url.port = port;\n",
       "          }\n",
       "          frame.src = url;\n",
       "        })();\n",
       "      </script>\n",
       "    "
      ],
      "text/plain": [
       "<IPython.core.display.HTML object>"
      ]
     },
     "metadata": {},
     "output_type": "display_data"
    }
   ],
   "source": [
    "%tensorboard --logdir regressionlogs/fit/"
   ]
  },
  {
   "cell_type": "code",
   "execution_count": 28,
   "id": "87e9fe51",
   "metadata": {},
   "outputs": [
    {
     "name": "stdout",
     "output_type": "stream",
     "text": [
      "63/63 [==============================] - 0s 232us/step - loss: 3349175296.0000 - mae: 50060.9297\n",
      "Test MAE: 50060.9296875\n",
      "Test Loss: 3349175296.0\n"
     ]
    }
   ],
   "source": [
    "test_loss, test_mae = model.evaluate(X_test, y_test)\n",
    "print(f\"Test MAE: {test_mae}\")      \n",
    "print(f\"Test Loss: {test_loss}\")"
   ]
  },
  {
   "cell_type": "code",
   "execution_count": 29,
   "id": "17168329",
   "metadata": {},
   "outputs": [
    {
     "name": "stderr",
     "output_type": "stream",
     "text": [
      "/Users/rahulmanchanda/Desktop/deep-learning-ann/venv311/lib/python3.11/site-packages/keras/src/engine/training.py:3103: UserWarning: You are saving your model as an HDF5 file via `model.save()`. This file format is considered legacy. We recommend using instead the native Keras format, e.g. `model.save('my_model.keras')`.\n",
      "  saving_api.save_model(\n"
     ]
    }
   ],
   "source": [
    "model.save(\"salary_regression_model.h5\")"
   ]
  },
  {
   "cell_type": "code",
   "execution_count": null,
   "id": "e09d8871",
   "metadata": {},
   "outputs": [],
   "source": []
  }
 ],
 "metadata": {
  "kernelspec": {
   "display_name": "venv311",
   "language": "python",
   "name": "python3"
  },
  "language_info": {
   "codemirror_mode": {
    "name": "ipython",
    "version": 3
   },
   "file_extension": ".py",
   "mimetype": "text/x-python",
   "name": "python",
   "nbconvert_exporter": "python",
   "pygments_lexer": "ipython3",
   "version": "3.11.13"
  }
 },
 "nbformat": 4,
 "nbformat_minor": 5
}
